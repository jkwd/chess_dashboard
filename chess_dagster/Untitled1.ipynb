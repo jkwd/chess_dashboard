{
 "cells": [
  {
   "cell_type": "code",
   "execution_count": 5,
   "id": "23ec3b39-6787-47ec-b0fd-8f3e53d3424a",
   "metadata": {},
   "outputs": [],
   "source": [
    "import duckdb"
   ]
  },
  {
   "cell_type": "code",
   "execution_count": 6,
   "id": "e9579494-fcf8-4500-9337-cef9cf83f4b3",
   "metadata": {},
   "outputs": [],
   "source": [
    "db = duckdb.connect(\"../data/chess.duckdb\")\n",
    "db.sql(\"SET TimeZone = 'UTC'\")"
   ]
  },
  {
   "cell_type": "code",
   "execution_count": 3,
   "id": "f08ed9ac-aa96-4ecb-8f7d-fed9c7463a5b",
   "metadata": {},
   "outputs": [],
   "source": [
    "db.close()"
   ]
  },
  {
   "cell_type": "code",
   "execution_count": 7,
   "id": "4b1d2fd2-e92d-4a7a-a6e0-6c09daa4bc2c",
   "metadata": {},
   "outputs": [
    {
     "data": {
      "text/plain": [
       "┌───────────────┬────────────────────┬─────────────────────┬───┬──────────┬───────────────┬───────────────┐\n",
       "│ table_catalog │    table_schema    │     table_name      │ … │ is_typed │ commit_action │ TABLE_COMMENT │\n",
       "│    varchar    │      varchar       │       varchar       │   │ varchar  │    varchar    │    varchar    │\n",
       "├───────────────┼────────────────────┼─────────────────────┼───┼──────────┼───────────────┼───────────────┤\n",
       "│ chess         │ chess_data_core    │ games               │ … │ NO       │ NULL          │ NULL          │\n",
       "│ chess         │ chess_data_core    │ player_games        │ … │ NO       │ NULL          │ NULL          │\n",
       "│ chess         │ chess_data_prep    │ game_moves          │ … │ NO       │ NULL          │ NULL          │\n",
       "│ chess         │ chess_data_raw     │ players_games       │ … │ NO       │ NULL          │ NULL          │\n",
       "│ chess         │ chess_data_raw     │ players_profiles    │ … │ NO       │ NULL          │ NULL          │\n",
       "│ chess         │ chess_data_raw     │ _dlt_loads          │ … │ NO       │ NULL          │ NULL          │\n",
       "│ chess         │ chess_data_raw     │ _dlt_pipeline_state │ … │ NO       │ NULL          │ NULL          │\n",
       "│ chess         │ chess_data_raw     │ _dlt_version        │ … │ NO       │ NULL          │ NULL          │\n",
       "│ chess         │ chess_data_staging │ game_moves          │ … │ NO       │ NULL          │ NULL          │\n",
       "│ chess         │ chess_data_staging │ players_games       │ … │ NO       │ NULL          │ NULL          │\n",
       "├───────────────┴────────────────────┴─────────────────────┴───┴──────────┴───────────────┴───────────────┤\n",
       "│ 10 rows                                                                            13 columns (6 shown) │\n",
       "└─────────────────────────────────────────────────────────────────────────────────────────────────────────┘"
      ]
     },
     "execution_count": 7,
     "metadata": {},
     "output_type": "execute_result"
    }
   ],
   "source": [
    "db.sql(\"select * from information_schema.tables\")"
   ]
  },
  {
   "cell_type": "code",
   "execution_count": 18,
   "id": "5d1db6ce-8ae7-41fe-b2b4-941d4808f1e2",
   "metadata": {},
   "outputs": [
    {
     "data": {
      "text/html": [
       "<div>\n",
       "<style scoped>\n",
       "    .dataframe tbody tr th:only-of-type {\n",
       "        vertical-align: middle;\n",
       "    }\n",
       "\n",
       "    .dataframe tbody tr th {\n",
       "        vertical-align: top;\n",
       "    }\n",
       "\n",
       "    .dataframe thead th {\n",
       "        text-align: right;\n",
       "    }\n",
       "</style>\n",
       "<table border=\"1\" class=\"dataframe\">\n",
       "  <thead>\n",
       "    <tr style=\"text-align: right;\">\n",
       "      <th></th>\n",
       "      <th>uuid</th>\n",
       "    </tr>\n",
       "  </thead>\n",
       "  <tbody>\n",
       "  </tbody>\n",
       "</table>\n",
       "</div>"
      ],
      "text/plain": [
       "Empty DataFrame\n",
       "Columns: [uuid]\n",
       "Index: []"
      ]
     },
     "execution_count": 18,
     "metadata": {},
     "output_type": "execute_result"
    }
   ],
   "source": [
    "db.sql(\"\"\"\n",
    "select\n",
    "uuid\n",
    "from chess_data_core.games\n",
    "where player_result <> 'checkmated'\n",
    "and opponent_result <> 'checkmated'\n",
    "and len(checkmate_pieces) > 0\n",
    "\"\"\").to_df()"
   ]
  },
  {
   "cell_type": "code",
   "execution_count": 19,
   "id": "c38b2f49-dd5f-4d9c-ba2c-c60dd25ea015",
   "metadata": {},
   "outputs": [
    {
     "data": {
      "text/html": [
       "<div>\n",
       "<style scoped>\n",
       "    .dataframe tbody tr th:only-of-type {\n",
       "        vertical-align: middle;\n",
       "    }\n",
       "\n",
       "    .dataframe tbody tr th {\n",
       "        vertical-align: top;\n",
       "    }\n",
       "\n",
       "    .dataframe thead th {\n",
       "        text-align: right;\n",
       "    }\n",
       "</style>\n",
       "<table border=\"1\" class=\"dataframe\">\n",
       "  <thead>\n",
       "    <tr style=\"text-align: right;\">\n",
       "      <th></th>\n",
       "      <th>uuid</th>\n",
       "    </tr>\n",
       "  </thead>\n",
       "  <tbody>\n",
       "  </tbody>\n",
       "</table>\n",
       "</div>"
      ],
      "text/plain": [
       "Empty DataFrame\n",
       "Columns: [uuid]\n",
       "Index: []"
      ]
     },
     "execution_count": 19,
     "metadata": {},
     "output_type": "execute_result"
    }
   ],
   "source": [
    "db.sql(\"\"\"\n",
    "select\n",
    "uuid\n",
    "from chess_data_core.games\n",
    "where (player_result = 'checkmated'\n",
    "or opponent_result = 'checkmated')\n",
    "and len(checkmate_pieces) = 0\n",
    "\"\"\").to_df()"
   ]
  },
  {
   "cell_type": "code",
   "execution_count": null,
   "id": "767b8bd1-6da0-464e-9e0a-6708713e0449",
   "metadata": {},
   "outputs": [],
   "source": []
  }
 ],
 "metadata": {
  "kernelspec": {
   "display_name": "Python 3 (ipykernel)",
   "language": "python",
   "name": "python3"
  },
  "language_info": {
   "codemirror_mode": {
    "name": "ipython",
    "version": 3
   },
   "file_extension": ".py",
   "mimetype": "text/x-python",
   "name": "python",
   "nbconvert_exporter": "python",
   "pygments_lexer": "ipython3",
   "version": "3.10.14"
  }
 },
 "nbformat": 4,
 "nbformat_minor": 5
}
