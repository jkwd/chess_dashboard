{
 "cells": [
  {
   "cell_type": "code",
   "execution_count": 1,
   "id": "23ec3b39-6787-47ec-b0fd-8f3e53d3424a",
   "metadata": {},
   "outputs": [],
   "source": [
    "import duckdb"
   ]
  },
  {
   "cell_type": "code",
   "execution_count": 2,
   "id": "e9579494-fcf8-4500-9337-cef9cf83f4b3",
   "metadata": {},
   "outputs": [],
   "source": [
    "db = duckdb.connect(\"../data/chess.duckdb\")\n",
    "db.sql(\"SET TimeZone = 'UTC'\")"
   ]
  },
  {
   "cell_type": "code",
   "execution_count": 18,
   "id": "f08ed9ac-aa96-4ecb-8f7d-fed9c7463a5b",
   "metadata": {},
   "outputs": [],
   "source": [
    "db.close()"
   ]
  },
  {
   "cell_type": "code",
   "execution_count": 3,
   "id": "4b1d2fd2-e92d-4a7a-a6e0-6c09daa4bc2c",
   "metadata": {},
   "outputs": [
    {
     "data": {
      "text/plain": [
       "┌───────────────┬────────────────────┬─────────────────────┬───┬──────────┬───────────────┬───────────────┐\n",
       "│ table_catalog │    table_schema    │     table_name      │ … │ is_typed │ commit_action │ TABLE_COMMENT │\n",
       "│    varchar    │      varchar       │       varchar       │   │ varchar  │    varchar    │    varchar    │\n",
       "├───────────────┼────────────────────┼─────────────────────┼───┼──────────┼───────────────┼───────────────┤\n",
       "│ chess         │ chess_data_core    │ player_games        │ … │ NO       │ NULL          │ NULL          │\n",
       "│ chess         │ chess_data_prep    │ game_moves          │ … │ NO       │ NULL          │ NULL          │\n",
       "│ chess         │ chess_data_raw     │ players_games       │ … │ NO       │ NULL          │ NULL          │\n",
       "│ chess         │ chess_data_raw     │ players_profiles    │ … │ NO       │ NULL          │ NULL          │\n",
       "│ chess         │ chess_data_raw     │ _dlt_loads          │ … │ NO       │ NULL          │ NULL          │\n",
       "│ chess         │ chess_data_raw     │ _dlt_pipeline_state │ … │ NO       │ NULL          │ NULL          │\n",
       "│ chess         │ chess_data_raw     │ _dlt_version        │ … │ NO       │ NULL          │ NULL          │\n",
       "│ chess         │ chess_data_staging │ players_games       │ … │ NO       │ NULL          │ NULL          │\n",
       "├───────────────┴────────────────────┴─────────────────────┴───┴──────────┴───────────────┴───────────────┤\n",
       "│ 8 rows                                                                             13 columns (6 shown) │\n",
       "└─────────────────────────────────────────────────────────────────────────────────────────────────────────┘"
      ]
     },
     "execution_count": 3,
     "metadata": {},
     "output_type": "execute_result"
    }
   ],
   "source": [
    "db.sql(\"select * from information_schema.tables\")"
   ]
  },
  {
   "cell_type": "code",
   "execution_count": 20,
   "id": "90087d29-37f3-4406-822e-e863e2f653d7",
   "metadata": {},
   "outputs": [
    {
     "data": {
      "text/plain": [
       "0.0005826408000046612"
      ]
     },
     "execution_count": 20,
     "metadata": {},
     "output_type": "execute_result"
    }
   ],
   "source": [
    "db.sql(\"\"\"\n",
    "    select \n",
    "    count_if(move_time_seconds < 0) as neg_time\n",
    "    , count(1) as num_rows \n",
    "    , count_if(move_time_seconds < 0) / count(1) * 100.0 as perc\n",
    "    from chess_data_prep.game_moves\n",
    "\"\"\").to_df().iloc[0]['perc'].item()"
   ]
  },
  {
   "cell_type": "code",
   "execution_count": null,
   "id": "5d1db6ce-8ae7-41fe-b2b4-941d4808f1e2",
   "metadata": {},
   "outputs": [],
   "source": []
  }
 ],
 "metadata": {
  "kernelspec": {
   "display_name": "Python 3 (ipykernel)",
   "language": "python",
   "name": "python3"
  },
  "language_info": {
   "codemirror_mode": {
    "name": "ipython",
    "version": 3
   },
   "file_extension": ".py",
   "mimetype": "text/x-python",
   "name": "python",
   "nbconvert_exporter": "python",
   "pygments_lexer": "ipython3",
   "version": "3.10.14"
  }
 },
 "nbformat": 4,
 "nbformat_minor": 5
}
