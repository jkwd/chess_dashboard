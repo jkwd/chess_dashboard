{
 "cells": [
  {
   "cell_type": "code",
   "execution_count": 7,
   "metadata": {},
   "outputs": [],
   "source": [
    "import pandas as pd\n",
    "import duckdb\n",
    "from load.load_chess_data import run_pipeline"
   ]
  },
  {
   "cell_type": "code",
   "execution_count": 8,
   "metadata": {},
   "outputs": [
    {
     "name": "stdout",
     "output_type": "stream",
     "text": [
      "__init__.py  __pycache__  app.ipynb  app.py  load  streamlit  test.py\n"
     ]
    }
   ],
   "source": [
    "!ls"
   ]
  },
  {
   "cell_type": "code",
   "execution_count": 9,
   "metadata": {},
   "outputs": [],
   "source": [
    "db = duckdb.connect(\"../chess.duckdb\")\n",
    "db.sql(\"SET TimeZone='UTC'\")"
   ]
  },
  {
   "cell_type": "code",
   "execution_count": 10,
   "metadata": {},
   "outputs": [
    {
     "data": {
      "text/plain": [
       "┌───────────────┬──────────────┬─────────────────────┬───┬──────────┬───────────────┬───────────────┐\n",
       "│ table_catalog │ table_schema │     table_name      │ … │ is_typed │ commit_action │ TABLE_COMMENT │\n",
       "│    varchar    │   varchar    │       varchar       │   │ varchar  │    varchar    │    varchar    │\n",
       "├───────────────┼──────────────┼─────────────────────┼───┼──────────┼───────────────┼───────────────┤\n",
       "│ chess         │ chess_data   │ game_moves          │ … │ NO       │ NULL          │ NULL          │\n",
       "│ chess         │ chess_data   │ player_games        │ … │ NO       │ NULL          │ NULL          │\n",
       "│ chess         │ chess_data   │ player_profile      │ … │ NO       │ NULL          │ NULL          │\n",
       "│ chess         │ chess_data   │ _dlt_loads          │ … │ NO       │ NULL          │ NULL          │\n",
       "│ chess         │ chess_data   │ _dlt_pipeline_state │ … │ NO       │ NULL          │ NULL          │\n",
       "│ chess         │ chess_data   │ _dlt_version        │ … │ NO       │ NULL          │ NULL          │\n",
       "│ chess         │ main         │ my_first_dbt_model  │ … │ NO       │ NULL          │ NULL          │\n",
       "│ chess         │ main         │ my_second_dbt_model │ … │ NO       │ NULL          │ NULL          │\n",
       "├───────────────┴──────────────┴─────────────────────┴───┴──────────┴───────────────┴───────────────┤\n",
       "│ 8 rows                                                                       13 columns (6 shown) │\n",
       "└───────────────────────────────────────────────────────────────────────────────────────────────────┘"
      ]
     },
     "execution_count": 10,
     "metadata": {},
     "output_type": "execute_result"
    }
   ],
   "source": [
    "db.sql(\"select * from information_schema.tables\")"
   ]
  },
  {
   "cell_type": "code",
   "execution_count": 11,
   "metadata": {},
   "outputs": [
    {
     "data": {
      "text/plain": [
       "┌──────────────────────┬──────────────────────┬───┬────────────────┬───────────────────┬───────────────────┐\n",
       "│       end_time       │         url          │ … │    _dlt_id     │ accuracies__white │ accuracies__black │\n",
       "│ timestamp with tim…  │       varchar        │   │    varchar     │      double       │      double       │\n",
       "├──────────────────────┼──────────────────────┼───┼────────────────┼───────────────────┼───────────────────┤\n",
       "│ 2024-05-01 09:54:5…  │ https://www.chess.…  │ … │ /8bTIpi0OSFy4w │              NULL │              NULL │\n",
       "│ 2024-05-02 02:22:4…  │ https://www.chess.…  │ … │ nii6UC0+ksKRiw │              NULL │              NULL │\n",
       "│ 2024-05-04 08:08:1…  │ https://www.chess.…  │ … │ a+zdX5xrDgGUvA │              NULL │              NULL │\n",
       "│ 2024-05-04 11:50:5…  │ https://www.chess.…  │ … │ IPAi/cCO2FQmig │              NULL │              NULL │\n",
       "│ 2024-05-19 12:41:2…  │ https://www.chess.…  │ … │ APNUuqJ6dBKOEQ │              NULL │              NULL │\n",
       "│ 2024-05-21 03:18:1…  │ https://www.chess.…  │ … │ 4cbA1QutY1fk+A │              NULL │              NULL │\n",
       "│ 2024-05-21 13:56:5…  │ https://www.chess.…  │ … │ QwBiFqwEA1CwZQ │              NULL │              NULL │\n",
       "│ 2024-05-21 14:30:3…  │ https://www.chess.…  │ … │ 4Oq2DcPJB2YEVQ │              NULL │              NULL │\n",
       "│ 2024-05-22 07:36:3…  │ https://www.chess.…  │ … │ D7hzo+l4LxI2xA │              NULL │              NULL │\n",
       "│ 2024-05-22 13:44:0…  │ https://www.chess.…  │ … │ CbmC1KDJ4ipfsA │              NULL │              NULL │\n",
       "│          ·           │          ·           │ · │       ·        │                ·  │                ·  │\n",
       "│          ·           │          ·           │ · │       ·        │                ·  │                ·  │\n",
       "│          ·           │          ·           │ · │       ·        │                ·  │                ·  │\n",
       "│ 2024-07-28 13:21:0…  │ https://www.chess.…  │ … │ bppz2BvF3fkxIA │              NULL │              NULL │\n",
       "│ 2024-07-29 12:02:4…  │ https://www.chess.…  │ … │ uxjjpwklqFmY9g │              NULL │              NULL │\n",
       "│ 2024-07-29 13:25:0…  │ https://www.chess.…  │ … │ SomgIRvgE6ESWg │              NULL │              NULL │\n",
       "│ 2024-07-30 06:01:0…  │ https://www.chess.…  │ … │ Q5eeHVZdpMA9Rw │              NULL │              NULL │\n",
       "│ 2024-07-30 15:00:5…  │ https://www.chess.…  │ … │ 8oYw2s9mnGIU4A │              NULL │              NULL │\n",
       "│ 2024-07-31 04:14:1…  │ https://www.chess.…  │ … │ TumDB23vtKOVQg │              NULL │              NULL │\n",
       "│ 2024-07-31 08:26:3…  │ https://www.chess.…  │ … │ SKKx+66CXQQGew │              NULL │              NULL │\n",
       "│ 2024-07-31 09:53:4…  │ https://www.chess.…  │ … │ xLbrqK9NpE792g │              NULL │              NULL │\n",
       "│ 2024-07-31 11:46:0…  │ https://www.chess.…  │ … │ rE2TIbHQuRzTMA │              NULL │              NULL │\n",
       "│ 2024-08-01 03:21:3…  │ https://www.chess.…  │ … │ WP/ZD+yLBGIqqA │             61.01 │             74.65 │\n",
       "├──────────────────────┴──────────────────────┴───┴────────────────┴───────────────────┴───────────────────┤\n",
       "│ 407 rows (20 shown)                                                                 25 columns (5 shown) │\n",
       "└──────────────────────────────────────────────────────────────────────────────────────────────────────────┘"
      ]
     },
     "execution_count": 11,
     "metadata": {},
     "output_type": "execute_result"
    }
   ],
   "source": [
    "db.sql(\"select * from chess_data.player_games\")"
   ]
  },
  {
   "cell_type": "code",
   "execution_count": 478,
   "metadata": {},
   "outputs": [
    {
     "name": "stdout",
     "output_type": "stream",
     "text": [
      "Getting archive from https://api.chess.com/pub/player/magnuscarlsen/games/2014/12Getting archive from https://api.chess.com/pub/player/magnuscarlsen/games/2016/06\n",
      "\n",
      "Getting archive from https://api.chess.com/pub/player/magnuscarlsen/games/2016/08\n",
      "Getting archive from https://api.chess.com/pub/player/magnuscarlsen/games/2016/10\n",
      "Getting archive from https://api.chess.com/pub/player/magnuscarlsen/games/2017/02\n",
      "Getting archive from https://api.chess.com/pub/player/magnuscarlsen/games/2017/03\n",
      "Getting archive from https://api.chess.com/pub/player/magnuscarlsen/games/2017/05\n",
      "Getting archive from https://api.chess.com/pub/player/magnuscarlsen/games/2017/10\n",
      "Getting archive from https://api.chess.com/pub/player/magnuscarlsen/games/2017/11\n",
      "Getting archive from https://api.chess.com/pub/player/magnuscarlsen/games/2018/01\n",
      "Getting archive from https://api.chess.com/pub/player/magnuscarlsen/games/2018/02\n",
      "Getting archive from https://api.chess.com/pub/player/magnuscarlsen/games/2018/03\n",
      "Getting archive from https://api.chess.com/pub/player/magnuscarlsen/games/2020/11\n",
      "Getting archive from https://api.chess.com/pub/player/magnuscarlsen/games/2020/12\n",
      "Getting archive from https://api.chess.com/pub/player/magnuscarlsen/games/2021/02\n",
      "Getting archive from https://api.chess.com/pub/player/magnuscarlsen/games/2022/05\n",
      "Getting archive from https://api.chess.com/pub/player/magnuscarlsen/games/2022/08\n",
      "Getting archive from https://api.chess.com/pub/player/magnuscarlsen/games/2022/09\n",
      "Getting archive from https://api.chess.com/pub/player/magnuscarlsen/games/2022/10\n",
      "Getting archive from https://api.chess.com/pub/player/magnuscarlsen/games/2022/11\n",
      "Getting archive from https://api.chess.com/pub/player/magnuscarlsen/games/2022/12\n",
      "Getting archive from https://api.chess.com/pub/player/magnuscarlsen/games/2023/01\n",
      "Getting archive from https://api.chess.com/pub/player/magnuscarlsen/games/2023/02\n",
      "Getting archive from https://api.chess.com/pub/player/magnuscarlsen/games/2023/03\n",
      "Getting archive from https://api.chess.com/pub/player/magnuscarlsen/games/2023/04\n",
      "Getting archive from https://api.chess.com/pub/player/magnuscarlsen/games/2023/05\n",
      "Getting archive from https://api.chess.com/pub/player/magnuscarlsen/games/2023/06\n",
      "Getting archive from https://api.chess.com/pub/player/magnuscarlsen/games/2023/07\n",
      "Getting archive from https://api.chess.com/pub/player/magnuscarlsen/games/2023/08\n",
      "Getting archive from https://api.chess.com/pub/player/magnuscarlsen/games/2023/09\n",
      "Getting archive from https://api.chess.com/pub/player/magnuscarlsen/games/2023/10\n",
      "Getting archive from https://api.chess.com/pub/player/magnuscarlsen/games/2023/11\n",
      "Getting archive from https://api.chess.com/pub/player/magnuscarlsen/games/2023/12\n",
      "Getting archive from https://api.chess.com/pub/player/magnuscarlsen/games/2024/01\n",
      "Getting archive from https://api.chess.com/pub/player/magnuscarlsen/games/2024/02\n",
      "Getting archive from https://api.chess.com/pub/player/magnuscarlsen/games/2024/03\n",
      "Getting archive from https://api.chess.com/pub/player/magnuscarlsen/games/2024/04\n",
      "Getting archive from https://api.chess.com/pub/player/magnuscarlsen/games/2024/05\n",
      "Getting archive from https://api.chess.com/pub/player/magnuscarlsen/games/2024/06\n",
      "Getting archive from https://api.chess.com/pub/player/magnuscarlsen/games/2024/07\n",
      "Getting archive from https://api.chess.com/pub/player/magnuscarlsen/games/2024/08\n",
      "Pipeline chess_pipeline load step completed in 1.82 seconds\n",
      "1 load package(s) were loaded to destination duckdb and into dataset chess_data\n",
      "The duckdb destination used duckdb:///:external: location to store data\n",
      "Load package 1723097926.82748 is LOADED and contains no failed jobs\n"
     ]
    }
   ],
   "source": [
    "# username = 'johnnywhoopp'\n",
    "username = 'magnuscarlsen'\n",
    "run_pipeline(db, username=username)"
   ]
  },
  {
   "cell_type": "code",
   "execution_count": 479,
   "metadata": {},
   "outputs": [
    {
     "data": {
      "text/plain": [
       "┌──────────┬────────────┬─────────────────────┬──────────────────────┬─────────────────────────────────────┬───────────┐\n",
       "│ database │   schema   │        name         │     column_names     │            column_types             │ temporary │\n",
       "│ varchar  │  varchar   │       varchar       │      varchar[]       │              varchar[]              │  boolean  │\n",
       "├──────────┼────────────┼─────────────────────┼──────────────────────┼─────────────────────────────────────┼───────────┤\n",
       "│ memory   │ chess_data │ _dlt_loads          │ [load_id, schema_n…  │ [VARCHAR, VARCHAR, BIGINT, TIMEST…  │ false     │\n",
       "│ memory   │ chess_data │ _dlt_pipeline_state │ [version, engine_v…  │ [BIGINT, BIGINT, VARCHAR, VARCHAR…  │ false     │\n",
       "│ memory   │ chess_data │ _dlt_version        │ [version, engine_v…  │ [BIGINT, BIGINT, TIMESTAMP WITH T…  │ false     │\n",
       "│ memory   │ chess_data │ player_games        │ [end_time, url, pg…  │ [TIMESTAMP WITH TIME ZONE, VARCHA…  │ false     │\n",
       "│ memory   │ chess_data │ player_profile      │ [last_online, join…  │ [TIMESTAMP WITH TIME ZONE, TIMEST…  │ false     │\n",
       "└──────────┴────────────┴─────────────────────┴──────────────────────┴─────────────────────────────────────┴───────────┘"
      ]
     },
     "execution_count": 479,
     "metadata": {},
     "output_type": "execute_result"
    }
   ],
   "source": [
    "db.sql(\"DESCRIBE;\")"
   ]
  },
  {
   "cell_type": "code",
   "execution_count": 480,
   "metadata": {},
   "outputs": [],
   "source": [
    "df_player = db.sql(\"select * from chess_data.player_profile;\").to_df()"
   ]
  },
  {
   "cell_type": "code",
   "execution_count": 481,
   "metadata": {},
   "outputs": [
    {
     "data": {
      "text/html": [
       "<div>\n",
       "<style scoped>\n",
       "    .dataframe tbody tr th:only-of-type {\n",
       "        vertical-align: middle;\n",
       "    }\n",
       "\n",
       "    .dataframe tbody tr th {\n",
       "        vertical-align: top;\n",
       "    }\n",
       "\n",
       "    .dataframe thead th {\n",
       "        text-align: right;\n",
       "    }\n",
       "</style>\n",
       "<table border=\"1\" class=\"dataframe\">\n",
       "  <thead>\n",
       "    <tr style=\"text-align: right;\">\n",
       "      <th></th>\n",
       "      <th>last_online</th>\n",
       "      <th>joined</th>\n",
       "      <th>player_id</th>\n",
       "      <th>aid</th>\n",
       "      <th>url</th>\n",
       "      <th>username</th>\n",
       "      <th>followers</th>\n",
       "      <th>country</th>\n",
       "      <th>status</th>\n",
       "      <th>is_streamer</th>\n",
       "      <th>verified</th>\n",
       "      <th>_dlt_load_id</th>\n",
       "      <th>_dlt_id</th>\n",
       "      <th>avatar</th>\n",
       "      <th>name</th>\n",
       "      <th>title</th>\n",
       "      <th>location</th>\n",
       "      <th>league</th>\n",
       "    </tr>\n",
       "  </thead>\n",
       "  <tbody>\n",
       "    <tr>\n",
       "      <th>0</th>\n",
       "      <td>2024-08-07 15:22:24+00:00</td>\n",
       "      <td>2010-08-26 21:05:20+00:00</td>\n",
       "      <td>3889224</td>\n",
       "      <td>https://api.chess.com/pub/player/magnuscarlsen</td>\n",
       "      <td>https://www.chess.com/member/MagnusCarlsen</td>\n",
       "      <td>magnuscarlsen</td>\n",
       "      <td>207009</td>\n",
       "      <td>https://api.chess.com/pub/country/NO</td>\n",
       "      <td>premium</td>\n",
       "      <td>False</td>\n",
       "      <td>False</td>\n",
       "      <td>1723097926.82748</td>\n",
       "      <td>QkwAUc12xMSbRg</td>\n",
       "      <td>https://images.chesscomfiles.com/uploads/v1/us...</td>\n",
       "      <td>Magnus Carlsen</td>\n",
       "      <td>GM</td>\n",
       "      <td>Norway</td>\n",
       "      <td>Champion</td>\n",
       "    </tr>\n",
       "  </tbody>\n",
       "</table>\n",
       "</div>"
      ],
      "text/plain": [
       "                last_online                    joined  player_id  \\\n",
       "0 2024-08-07 15:22:24+00:00 2010-08-26 21:05:20+00:00    3889224   \n",
       "\n",
       "                                              aid  \\\n",
       "0  https://api.chess.com/pub/player/magnuscarlsen   \n",
       "\n",
       "                                          url       username  followers  \\\n",
       "0  https://www.chess.com/member/MagnusCarlsen  magnuscarlsen     207009   \n",
       "\n",
       "                                country   status  is_streamer  verified  \\\n",
       "0  https://api.chess.com/pub/country/NO  premium        False     False   \n",
       "\n",
       "       _dlt_load_id         _dlt_id  \\\n",
       "0  1723097926.82748  QkwAUc12xMSbRg   \n",
       "\n",
       "                                              avatar            name title  \\\n",
       "0  https://images.chesscomfiles.com/uploads/v1/us...  Magnus Carlsen    GM   \n",
       "\n",
       "  location    league  \n",
       "0   Norway  Champion  "
      ]
     },
     "execution_count": 481,
     "metadata": {},
     "output_type": "execute_result"
    }
   ],
   "source": [
    "df_player"
   ]
  },
  {
   "cell_type": "code",
   "execution_count": 482,
   "metadata": {},
   "outputs": [],
   "source": [
    "df_games = db.sql(\"select * from chess_data.player_games;\").to_df()"
   ]
  },
  {
   "cell_type": "code",
   "execution_count": 483,
   "metadata": {},
   "outputs": [
    {
     "data": {
      "text/plain": [
       "Index(['end_time', 'url', 'pgn', 'time_control', 'rated', 'accuracies__white',\n",
       "       'accuracies__black', 'tcn', 'uuid', 'initial_setup', 'fen',\n",
       "       'time_class', 'rules', 'white__rating', 'white__result', 'white__aid',\n",
       "       'white__username', 'white__uuid', 'black__rating', 'black__result',\n",
       "       'black__aid', 'black__username', 'black__uuid', '_dlt_load_id',\n",
       "       '_dlt_id', 'tournament'],\n",
       "      dtype='object')"
      ]
     },
     "execution_count": 483,
     "metadata": {},
     "output_type": "execute_result"
    }
   ],
   "source": [
    "df_games.columns"
   ]
  },
  {
   "cell_type": "code",
   "execution_count": 484,
   "metadata": {},
   "outputs": [
    {
     "name": "stdout",
     "output_type": "stream",
     "text": [
      "<class 'pandas.core.frame.DataFrame'>\n",
      "RangeIndex: 5304 entries, 0 to 5303\n",
      "Data columns (total 26 columns):\n",
      " #   Column             Non-Null Count  Dtype              \n",
      "---  ------             --------------  -----              \n",
      " 0   end_time           5304 non-null   datetime64[us, UTC]\n",
      " 1   url                5304 non-null   object             \n",
      " 2   pgn                5304 non-null   object             \n",
      " 3   time_control       5304 non-null   object             \n",
      " 4   rated              5304 non-null   bool               \n",
      " 5   accuracies__white  5292 non-null   float64            \n",
      " 6   accuracies__black  5292 non-null   float64            \n",
      " 7   tcn                5304 non-null   object             \n",
      " 8   uuid               5304 non-null   object             \n",
      " 9   initial_setup      5304 non-null   object             \n",
      " 10  fen                5304 non-null   object             \n",
      " 11  time_class         5304 non-null   object             \n",
      " 12  rules              5304 non-null   object             \n",
      " 13  white__rating      5304 non-null   int64              \n",
      " 14  white__result      5304 non-null   object             \n",
      " 15  white__aid         5304 non-null   object             \n",
      " 16  white__username    5304 non-null   object             \n",
      " 17  white__uuid        5304 non-null   object             \n",
      " 18  black__rating      5304 non-null   int64              \n",
      " 19  black__result      5304 non-null   object             \n",
      " 20  black__aid         5304 non-null   object             \n",
      " 21  black__username    5304 non-null   object             \n",
      " 22  black__uuid        5304 non-null   object             \n",
      " 23  _dlt_load_id       5304 non-null   object             \n",
      " 24  _dlt_id            5304 non-null   object             \n",
      " 25  tournament         858 non-null    object             \n",
      "dtypes: bool(1), datetime64[us, UTC](1), float64(2), int64(2), object(20)\n",
      "memory usage: 1.0+ MB\n"
     ]
    }
   ],
   "source": [
    "df_games.info()"
   ]
  },
  {
   "cell_type": "code",
   "execution_count": 485,
   "metadata": {},
   "outputs": [
    {
     "name": "stdout",
     "output_type": "stream",
     "text": [
      "[Event \"Live Chess\"]\n",
      "[Site \"Chess.com\"]\n",
      "[Date \"2014.12.14\"]\n",
      "[Round \"-\"]\n",
      "[White \"MagnusCarlsen\"]\n",
      "[Black \"RainnWilson\"]\n",
      "[Result \"1-0\"]\n",
      "[CurrentPosition \"8/pp5p/1k1pN1pB/1Q1P4/3q2n1/2N5/PPP2PPP/6K1 b - -\"]\n",
      "[Timezone \"UTC\"]\n",
      "[ECO \"A04\"]\n",
      "[ECOUrl \"https://www.chess.com/openings/Reti-Opening-Kingside-Fianchetto-Variation-2.e4\"]\n",
      "[UTCDate \"2014.12.14\"]\n",
      "[UTCTime \"18:11:36\"]\n",
      "[WhiteElo \"2862\"]\n",
      "[BlackElo \"1200\"]\n",
      "[TimeControl \"1500+25\"]\n",
      "[Termination \"MagnusCarlsen won by checkmate\"]\n",
      "[StartTime \"18:11:36\"]\n",
      "[EndDate \"2014.12.14\"]\n",
      "[EndTime \"18:37:13\"]\n",
      "[Link \"https://www.chess.com/game/live/998800720\"]\n",
      "\n",
      "1. e4 {[%clk 0:24:55.5]} 1... g6 {[%clk 0:24:03.5]} 2. Nf3 {[%clk 0:25:13.7]} 2... d6 {[%clk 0:23:55.1]} 3. d4 {[%clk 0:24:57.4]} 3... Bg7 {[%clk 0:24:13.6]} 4. Bc4 {[%clk 0:25:02]} 4... Bg4 {[%clk 0:24:22.4]} 5. Bxf7+ {[%clk 0:25:12.6]} 5... Kxf7 {[%clk 0:24:40.3]} 6. Ng5+ {[%clk 0:25:07.5]} 6... Ke8 {[%clk 0:24:53.8]} 7. Qxg4 {[%clk 0:24:49.9]} 7... Nh6 {[%clk 0:24:53.9]} 8. Qh3 {[%clk 0:25:05.4]} 8... Nd7 {[%clk 0:24:57.3]} 9. Ne6 {[%clk 0:25:17]} 9... Qc8 {[%clk 0:24:21.8]} 10. Nxg7+ {[%clk 0:25:35.8]} 10... Kd8 {[%clk 0:24:34.8]} 11. Ne6+ {[%clk 0:25:29.2]} 11... Ke8 {[%clk 0:24:51.9]} 12. Bxh6 {[%clk 0:25:01.9]} 12... Nf6 {[%clk 0:25:06.9]} 13. Nc3 {[%clk 0:25:11.6]} 13... Kf7 {[%clk 0:23:58]} 14. d5 {[%clk 0:25:33.1]} 14... c6 {[%clk 0:23:30.4]} 15. O-O {[%clk 0:25:50.5]} 15... cxd5 {[%clk 0:23:46.8]} 16. exd5 {[%clk 0:26:06.7]} 16... Qc4 {[%clk 0:22:18.8]} 17. Ng5+ {[%clk 0:25:59.8]} 17... Ke8 {[%clk 0:22:33.3]} 18. Qe6 {[%clk 0:26:20.3]} 18... Qg4 {[%clk 0:21:43.4]} 19. Qf7+ {[%clk 0:26:03.6]} 19... Kd7 {[%clk 0:21:58]} 20. Rae1 {[%clk 0:25:44.4]} 20... Rae8 {[%clk 0:21:51.8]} 21. Re6 {[%clk 0:25:49.2]} 21... Qd4 {[%clk 0:20:58.7]} 22. Rfe1 {[%clk 0:26:06.1]} 22... Ng4 {[%clk 0:20:26.8]} 23. Rxe7+ {[%clk 0:26:24.7]} 23... Rxe7 {[%clk 0:20:43.4]} 24. Rxe7+ {[%clk 0:26:28.9]} 24... Kc8 {[%clk 0:20:50]} 25. Re8+ {[%clk 0:26:35.4]} 25... Rxe8 {[%clk 0:21:03.5]} 26. Qxe8+ {[%clk 0:26:16]} 26... Kc7 {[%clk 0:21:21.3]} 27. Ne6+ {[%clk 0:26:03.6]} 27... Kb6 {[%clk 0:21:30]} 28. Qb5# {[%clk 0:26:01.9]} 1-0\n",
      "\n"
     ]
    }
   ],
   "source": [
    "print(df_games['pgn'][0])"
   ]
  },
  {
   "cell_type": "code",
   "execution_count": 486,
   "metadata": {},
   "outputs": [],
   "source": [
    "df_prep = db.sql(f\"\"\"\n",
    "    select\n",
    "        -- PLAYER DETAILS\n",
    "        if(lower(white__username)='{username}', 'White', 'Black') as player_color\n",
    "        , if(player_color = 'White', white__rating, black__rating) as player_rating\n",
    "        , if(player_color = 'White', white__result, black__result) as player_result\n",
    "        \n",
    "        -- OPPONENT DETAILS\n",
    "        , if(player_color = 'White', black__rating, white__rating) as opponent_rating\n",
    "        , if(player_color = 'White', black__result, white__result) as opponent_result\n",
    "        \n",
    "        -- PLAYER-OPPONENT DETAILS\n",
    "        , player_rating > opponent_rating as is_weaker_opponent\n",
    "        , case player_result\n",
    "            -- WIN\n",
    "            when 'win' then 'win'\n",
    "            \n",
    "            -- DRAW\n",
    "            when 'stalemate' then 'draw'\n",
    "            when 'agreed' then 'draw'\n",
    "            when 'repetition' then 'draw'\n",
    "            when '50move' then 'draw'\n",
    "            when 'insufficient' then 'draw'\n",
    "            when 'timevsinsufficient' then 'draw'\n",
    "            \n",
    "            -- LOSE\n",
    "            when 'checkmated' then 'lose'\n",
    "            when 'timeout' then 'lose'\n",
    "            when 'resigned' then 'lose'\n",
    "            when 'abandoned' then 'lose'\n",
    "            when 'threecheck' then 'lose'\n",
    "        end as player_wdl\n",
    "        , if(player_result='win', opponent_result, player_result) as player_wdl_reason\n",
    "        \n",
    "        -- GAME DETAILS\n",
    "        , regexp_extract(pgn, '(ECO )\"(.*)\"', 2) as eco\n",
    "        , cast(replace(regexp_extract(pgn, '(UTCDate )\"(.*)\"', 2), '.', '-') as date) as start_date\n",
    "        , regexp_extract(pgn, '(StartTime )\"(.*)\"', 2) as start_time\n",
    "        , cast(concat(start_date, ' ', start_time) as timestamp) as start_timestamp\n",
    "        , cast(end_time as timestamp) as end_timestamp\n",
    "        , age(end_timestamp, start_timestamp) as time_played\n",
    "        , epoch(time_played) as time_played_seconds\n",
    "        , *\n",
    "        from chess_data.player_games\n",
    "\"\"\").to_df()"
   ]
  },
  {
   "cell_type": "code",
   "execution_count": 500,
   "metadata": {},
   "outputs": [
    {
     "data": {
      "text/plain": [
       "┌─────────────────┐\n",
       "│ to_seconds(300) │\n",
       "│    interval     │\n",
       "├─────────────────┤\n",
       "│ 00:05:00        │\n",
       "└─────────────────┘"
      ]
     },
     "execution_count": 500,
     "metadata": {},
     "output_type": "execute_result"
    }
   ],
   "source": [
    "duckdb.sql(\"select to_seconds(300)\")"
   ]
  },
  {
   "cell_type": "code",
   "execution_count": null,
   "metadata": {},
   "outputs": [],
   "source": []
  },
  {
   "cell_type": "code",
   "execution_count": 517,
   "metadata": {},
   "outputs": [
    {
     "name": "stderr",
     "output_type": "stream",
     "text": [
      "<>:1: SyntaxWarning: invalid escape sequence '\\d'\n",
      "<>:1: SyntaxWarning: invalid escape sequence '\\d'\n",
      "/var/folders/nx/k58z166d4cb1kcxdzyrmtv_w0000gp/T/ipykernel_25551/1812649611.py:1: SyntaxWarning: invalid escape sequence '\\d'\n",
      "  move_test = duckdb.sql(\"\"\"\n"
     ]
    }
   ],
   "source": [
    "move_test = duckdb.sql(\"\"\"\n",
    "        with base as (\n",
    "            select\n",
    "            uuid\n",
    "            , time_control\n",
    "            , cast(split(time_control, '+')[1] as integer) as time_control_start\n",
    "            , cast(coalesce(split(time_control, '+')[2], '0') as integer) as time_control_add\n",
    "            , pgn\n",
    "            , split(pgn, '\\n\\n')[2] as pgn_moves\n",
    "            , regexp_extract_all(pgn_moves, '\\d+\\.+ [\\S]+ {\\[%clk \\S+\\]}') as moves_extract\n",
    "            from df_prep\n",
    "            limit 5\n",
    "        )\n",
    "        , unnest as (\n",
    "            select\n",
    "            uuid\n",
    "            , time_control\n",
    "            , time_control_start\n",
    "            , time_control_add\n",
    "            , unnest(moves_extract) as moves_unnest\n",
    "            , split(moves_unnest, ' ')[1] as move_index_raw\n",
    "            , cast(regexp_replace(move_index_raw, '\\.+', '') as int) as move_index\n",
    "            , if(regexp_matches(move_index_raw, '\\.\\.\\.'), 'Black', 'White') as color_move\n",
    "            , split(moves_unnest, ' ')[2] as move\n",
    "            , cast(replace(split(moves_unnest, ' ')[4], ']}', '') as interval) as clock_interval\n",
    "            , to_seconds(epoch(clock_interval) + time_control_add) as clock_interval_post_move\n",
    "            from base\n",
    "        )\n",
    "        select \n",
    "        uuid\n",
    "        , time_control\n",
    "        , time_control_add\n",
    "        , time_control_start\n",
    "        , move_index\n",
    "        , color_move\n",
    "        , move\n",
    "        , clock_interval\n",
    "        , clock_interval_post_move\n",
    "        , coalesce(\n",
    "            lag(clock_interval_post_move) over(partition by uuid, color_move order by move_index)\n",
    "            , to_seconds(time_control_start)\n",
    "        )  as prev_clock_interval\n",
    "        , epoch(prev_clock_interval) - epoch(clock_interval)as move_time\n",
    "        from unnest\n",
    "\"\"\").to_df()"
   ]
  },
  {
   "cell_type": "code",
   "execution_count": 519,
   "metadata": {},
   "outputs": [
    {
     "data": {
      "text/html": [
       "<div>\n",
       "<style scoped>\n",
       "    .dataframe tbody tr th:only-of-type {\n",
       "        vertical-align: middle;\n",
       "    }\n",
       "\n",
       "    .dataframe tbody tr th {\n",
       "        vertical-align: top;\n",
       "    }\n",
       "\n",
       "    .dataframe thead th {\n",
       "        text-align: right;\n",
       "    }\n",
       "</style>\n",
       "<table border=\"1\" class=\"dataframe\">\n",
       "  <thead>\n",
       "    <tr style=\"text-align: right;\">\n",
       "      <th></th>\n",
       "      <th>uuid</th>\n",
       "      <th>time_control</th>\n",
       "      <th>time_control_add</th>\n",
       "      <th>time_control_start</th>\n",
       "      <th>move_index</th>\n",
       "      <th>color_move</th>\n",
       "      <th>move</th>\n",
       "      <th>clock_interval</th>\n",
       "      <th>clock_interval_post_move</th>\n",
       "      <th>prev_clock_interval</th>\n",
       "      <th>move_time</th>\n",
       "    </tr>\n",
       "  </thead>\n",
       "  <tbody>\n",
       "    <tr>\n",
       "      <th>0</th>\n",
       "      <td>b5d3f880-3fe6-11df-8000-000000010001</td>\n",
       "      <td>1500+25</td>\n",
       "      <td>25</td>\n",
       "      <td>1500</td>\n",
       "      <td>1</td>\n",
       "      <td>White</td>\n",
       "      <td>e4</td>\n",
       "      <td>0 days 00:24:55.500000</td>\n",
       "      <td>0 days 00:25:20.500000</td>\n",
       "      <td>0 days 00:25:00</td>\n",
       "      <td>4.5</td>\n",
       "    </tr>\n",
       "    <tr>\n",
       "      <th>1</th>\n",
       "      <td>b5d3f880-3fe6-11df-8000-000000010001</td>\n",
       "      <td>1500+25</td>\n",
       "      <td>25</td>\n",
       "      <td>1500</td>\n",
       "      <td>2</td>\n",
       "      <td>White</td>\n",
       "      <td>Nf3</td>\n",
       "      <td>0 days 00:25:13.700000</td>\n",
       "      <td>0 days 00:25:38.700000</td>\n",
       "      <td>0 days 00:25:20.500000</td>\n",
       "      <td>6.8</td>\n",
       "    </tr>\n",
       "    <tr>\n",
       "      <th>2</th>\n",
       "      <td>b5d3f880-3fe6-11df-8000-000000010001</td>\n",
       "      <td>1500+25</td>\n",
       "      <td>25</td>\n",
       "      <td>1500</td>\n",
       "      <td>3</td>\n",
       "      <td>White</td>\n",
       "      <td>d4</td>\n",
       "      <td>0 days 00:24:57.400000</td>\n",
       "      <td>0 days 00:25:22.400000</td>\n",
       "      <td>0 days 00:25:38.700000</td>\n",
       "      <td>41.3</td>\n",
       "    </tr>\n",
       "    <tr>\n",
       "      <th>3</th>\n",
       "      <td>b5d3f880-3fe6-11df-8000-000000010001</td>\n",
       "      <td>1500+25</td>\n",
       "      <td>25</td>\n",
       "      <td>1500</td>\n",
       "      <td>4</td>\n",
       "      <td>White</td>\n",
       "      <td>Bc4</td>\n",
       "      <td>0 days 00:25:02</td>\n",
       "      <td>0 days 00:25:27</td>\n",
       "      <td>0 days 00:25:22.400000</td>\n",
       "      <td>20.4</td>\n",
       "    </tr>\n",
       "    <tr>\n",
       "      <th>4</th>\n",
       "      <td>b5d3f880-3fe6-11df-8000-000000010001</td>\n",
       "      <td>1500+25</td>\n",
       "      <td>25</td>\n",
       "      <td>1500</td>\n",
       "      <td>5</td>\n",
       "      <td>White</td>\n",
       "      <td>Bxf7+</td>\n",
       "      <td>0 days 00:25:12.600000</td>\n",
       "      <td>0 days 00:25:37.600000</td>\n",
       "      <td>0 days 00:25:27</td>\n",
       "      <td>14.4</td>\n",
       "    </tr>\n",
       "    <tr>\n",
       "      <th>...</th>\n",
       "      <td>...</td>\n",
       "      <td>...</td>\n",
       "      <td>...</td>\n",
       "      <td>...</td>\n",
       "      <td>...</td>\n",
       "      <td>...</td>\n",
       "      <td>...</td>\n",
       "      <td>...</td>\n",
       "      <td>...</td>\n",
       "      <td>...</td>\n",
       "      <td>...</td>\n",
       "    </tr>\n",
       "    <tr>\n",
       "      <th>311</th>\n",
       "      <td>e74cc40a-3fe6-11df-8000-000000010001</td>\n",
       "      <td>1500+25</td>\n",
       "      <td>25</td>\n",
       "      <td>1500</td>\n",
       "      <td>22</td>\n",
       "      <td>Black</td>\n",
       "      <td>Bxd5</td>\n",
       "      <td>0 days 00:03:41.700000</td>\n",
       "      <td>0 days 00:04:06.700000</td>\n",
       "      <td>0 days 00:04:02.200000</td>\n",
       "      <td>20.5</td>\n",
       "    </tr>\n",
       "    <tr>\n",
       "      <th>312</th>\n",
       "      <td>e74cc40a-3fe6-11df-8000-000000010001</td>\n",
       "      <td>1500+25</td>\n",
       "      <td>25</td>\n",
       "      <td>1500</td>\n",
       "      <td>23</td>\n",
       "      <td>Black</td>\n",
       "      <td>gxf6</td>\n",
       "      <td>0 days 00:03:24.500000</td>\n",
       "      <td>0 days 00:03:49.500000</td>\n",
       "      <td>0 days 00:04:06.700000</td>\n",
       "      <td>42.2</td>\n",
       "    </tr>\n",
       "    <tr>\n",
       "      <th>313</th>\n",
       "      <td>e74cc40a-3fe6-11df-8000-000000010001</td>\n",
       "      <td>1500+25</td>\n",
       "      <td>25</td>\n",
       "      <td>1500</td>\n",
       "      <td>24</td>\n",
       "      <td>Black</td>\n",
       "      <td>Kh8</td>\n",
       "      <td>0 days 00:03:18.800000</td>\n",
       "      <td>0 days 00:03:43.800000</td>\n",
       "      <td>0 days 00:03:49.500000</td>\n",
       "      <td>30.7</td>\n",
       "    </tr>\n",
       "    <tr>\n",
       "      <th>314</th>\n",
       "      <td>e74cc40a-3fe6-11df-8000-000000010001</td>\n",
       "      <td>1500+25</td>\n",
       "      <td>25</td>\n",
       "      <td>1500</td>\n",
       "      <td>25</td>\n",
       "      <td>Black</td>\n",
       "      <td>Rg8</td>\n",
       "      <td>0 days 00:03:29.800000</td>\n",
       "      <td>0 days 00:03:54.800000</td>\n",
       "      <td>0 days 00:03:43.800000</td>\n",
       "      <td>14.0</td>\n",
       "    </tr>\n",
       "    <tr>\n",
       "      <th>315</th>\n",
       "      <td>e74cc40a-3fe6-11df-8000-000000010001</td>\n",
       "      <td>1500+25</td>\n",
       "      <td>25</td>\n",
       "      <td>1500</td>\n",
       "      <td>26</td>\n",
       "      <td>Black</td>\n",
       "      <td>Rg7</td>\n",
       "      <td>0 days 00:03:30.300000</td>\n",
       "      <td>0 days 00:03:55.300000</td>\n",
       "      <td>0 days 00:03:54.800000</td>\n",
       "      <td>24.5</td>\n",
       "    </tr>\n",
       "  </tbody>\n",
       "</table>\n",
       "<p>316 rows × 11 columns</p>\n",
       "</div>"
      ],
      "text/plain": [
       "                                     uuid time_control  time_control_add  \\\n",
       "0    b5d3f880-3fe6-11df-8000-000000010001      1500+25                25   \n",
       "1    b5d3f880-3fe6-11df-8000-000000010001      1500+25                25   \n",
       "2    b5d3f880-3fe6-11df-8000-000000010001      1500+25                25   \n",
       "3    b5d3f880-3fe6-11df-8000-000000010001      1500+25                25   \n",
       "4    b5d3f880-3fe6-11df-8000-000000010001      1500+25                25   \n",
       "..                                    ...          ...               ...   \n",
       "311  e74cc40a-3fe6-11df-8000-000000010001      1500+25                25   \n",
       "312  e74cc40a-3fe6-11df-8000-000000010001      1500+25                25   \n",
       "313  e74cc40a-3fe6-11df-8000-000000010001      1500+25                25   \n",
       "314  e74cc40a-3fe6-11df-8000-000000010001      1500+25                25   \n",
       "315  e74cc40a-3fe6-11df-8000-000000010001      1500+25                25   \n",
       "\n",
       "     time_control_start  move_index color_move   move         clock_interval  \\\n",
       "0                  1500           1      White     e4 0 days 00:24:55.500000   \n",
       "1                  1500           2      White    Nf3 0 days 00:25:13.700000   \n",
       "2                  1500           3      White     d4 0 days 00:24:57.400000   \n",
       "3                  1500           4      White    Bc4        0 days 00:25:02   \n",
       "4                  1500           5      White  Bxf7+ 0 days 00:25:12.600000   \n",
       "..                  ...         ...        ...    ...                    ...   \n",
       "311                1500          22      Black   Bxd5 0 days 00:03:41.700000   \n",
       "312                1500          23      Black   gxf6 0 days 00:03:24.500000   \n",
       "313                1500          24      Black    Kh8 0 days 00:03:18.800000   \n",
       "314                1500          25      Black    Rg8 0 days 00:03:29.800000   \n",
       "315                1500          26      Black    Rg7 0 days 00:03:30.300000   \n",
       "\n",
       "    clock_interval_post_move    prev_clock_interval  move_time  \n",
       "0     0 days 00:25:20.500000        0 days 00:25:00        4.5  \n",
       "1     0 days 00:25:38.700000 0 days 00:25:20.500000        6.8  \n",
       "2     0 days 00:25:22.400000 0 days 00:25:38.700000       41.3  \n",
       "3            0 days 00:25:27 0 days 00:25:22.400000       20.4  \n",
       "4     0 days 00:25:37.600000        0 days 00:25:27       14.4  \n",
       "..                       ...                    ...        ...  \n",
       "311   0 days 00:04:06.700000 0 days 00:04:02.200000       20.5  \n",
       "312   0 days 00:03:49.500000 0 days 00:04:06.700000       42.2  \n",
       "313   0 days 00:03:43.800000 0 days 00:03:49.500000       30.7  \n",
       "314   0 days 00:03:54.800000 0 days 00:03:43.800000       14.0  \n",
       "315   0 days 00:03:55.300000 0 days 00:03:54.800000       24.5  \n",
       "\n",
       "[316 rows x 11 columns]"
      ]
     },
     "execution_count": 519,
     "metadata": {},
     "output_type": "execute_result"
    }
   ],
   "source": [
    "move_test"
   ]
  },
  {
   "cell_type": "code",
   "execution_count": null,
   "metadata": {},
   "outputs": [],
   "source": []
  },
  {
   "cell_type": "code",
   "execution_count": null,
   "metadata": {},
   "outputs": [],
   "source": []
  },
  {
   "cell_type": "code",
   "execution_count": null,
   "metadata": {},
   "outputs": [],
   "source": []
  },
  {
   "cell_type": "code",
   "execution_count": null,
   "metadata": {},
   "outputs": [],
   "source": []
  },
  {
   "cell_type": "code",
   "execution_count": 433,
   "metadata": {},
   "outputs": [
    {
     "name": "stderr",
     "output_type": "stream",
     "text": [
      "<>:1: SyntaxWarning: invalid escape sequence '\\{'\n",
      "<>:1: SyntaxWarning: invalid escape sequence '\\{'\n",
      "/var/folders/nx/k58z166d4cb1kcxdzyrmtv_w0000gp/T/ipykernel_25551/3312456971.py:1: SyntaxWarning: invalid escape sequence '\\{'\n",
      "  test = duckdb.sql(\"\"\"\n"
     ]
    }
   ],
   "source": [
    "test = duckdb.sql(\"\"\"\n",
    "           select\n",
    "           player_color\n",
    "           , player_wdl\n",
    "           , split(pgn, '\\n\\n')[2] as pgn_moves\n",
    "           , regexp_replace(pgn_moves, '\\{[^}]*\\}', '|') as test\n",
    "           , regexp_extract_all(pgn_moves, '\\d+\\.+ [\\S]+ {\\[%clk \\S+\\]}') as moves_extract\n",
    "           from df_prep\n",
    "           limit 15\n",
    "           \"\"\").to_df()"
   ]
  },
  {
   "cell_type": "code",
   "execution_count": 427,
   "metadata": {},
   "outputs": [
    {
     "name": "stdout",
     "output_type": "stream",
     "text": [
      "1. e4 {[%clk 0:05:01.2]} 1... e5 {[%clk 0:04:48]} 2. b3 {[%clk 0:04:49]} 2... Nc6 {[%clk 0:04:44.3]} 3. d3 {[%clk 0:04:38.1]} 3... N8e7 {[%clk 0:04:25.9]} 4. f4 {[%clk 0:04:22.3]} 4... exf4 {[%clk 0:04:16.5]} 5. Bc3 {[%clk 0:04:21.1]} 5... f6 {[%clk 0:04:13.5]} 6. Ne2 {[%clk 0:04:03.6]} 6... d5 {[%clk 0:03:58.2]} 7. Nxf4 {[%clk 0:03:59.2]} 7... Bf7 {[%clk 0:03:59.2]} 8. Nd2 {[%clk 0:03:47.4]} 8... Qc8 {[%clk 0:03:55.5]} 9. Nh5 {[%clk 0:02:40.9]} 9... Bxh5 {[%clk 0:03:36.6]} 10. Bxh5 {[%clk 0:02:41.5]} 10... Qd7 {[%clk 0:03:38.5]} 11. Rf2 {[%clk 0:02:19.7]} 11... d4 {[%clk 0:03:37.4]} 12. Bb2 {[%clk 0:02:20.5]} 12... Ng6 {[%clk 0:03:36]} 13. a3 {[%clk 0:01:54.7]} 13... a5 {[%clk 0:03:13.4]} 14. O-O {[%clk 0:01:31.2]} 14... Nge5 {[%clk 0:02:57.3]} 15. b4 {[%clk 0:01:28.5]} 15... g6 {[%clk 0:01:50.2]} 16. Bd1 {[%clk 0:01:24.3]} 16... axb4 {[%clk 0:01:08.4]} 17. axb4 {[%clk 0:01:26.2]} 17... Nxb4 {[%clk 0:01:10]} 18. Bxd4 {[%clk 0:01:26.2]} 18... Be7 {[%clk 0:00:37]} 19. Bxe5 {[%clk 0:01:10]} 19... fxe5 {[%clk 0:00:38.9]} 20. Qxe5 {[%clk 0:00:26.9]} 20... Nc6 {[%clk 0:00:35.1]} 21. Rxf8+ {[%clk 0:00:25.9]} 21... Bxf8 {[%clk 0:00:37]} 22. Rxf8+ {[%clk 0:00:26.4]} 1-0\n",
      "\n"
     ]
    }
   ],
   "source": [
    "print(test['pgn_moves'][0])"
   ]
  },
  {
   "cell_type": "code",
   "execution_count": 432,
   "metadata": {},
   "outputs": [
    {
     "data": {
      "text/plain": [
       "array(['1. e4 {[%clk 0:05:01.2]}', '1... e5 {[%clk 0:04:48]}',\n",
       "       '2. b3 {[%clk 0:04:49]}', '2... Nc6 {[%clk 0:04:44.3]}',\n",
       "       '3. d3 {[%clk 0:04:38.1]}', '3... N8e7 {[%clk 0:04:25.9]}',\n",
       "       '4. f4 {[%clk 0:04:22.3]}', '4... exf4 {[%clk 0:04:16.5]}',\n",
       "       '5. Bc3 {[%clk 0:04:21.1]}', '5... f6 {[%clk 0:04:13.5]}',\n",
       "       '6. Ne2 {[%clk 0:04:03.6]}', '6... d5 {[%clk 0:03:58.2]}',\n",
       "       '7. Nxf4 {[%clk 0:03:59.2]}', '7... Bf7 {[%clk 0:03:59.2]}',\n",
       "       '8. Nd2 {[%clk 0:03:47.4]}', '8... Qc8 {[%clk 0:03:55.5]}',\n",
       "       '9. Nh5 {[%clk 0:02:40.9]}', '9... Bxh5 {[%clk 0:03:36.6]}',\n",
       "       '10. Bxh5 {[%clk 0:02:41.5]}', '10... Qd7 {[%clk 0:03:38.5]}',\n",
       "       '11. Rf2 {[%clk 0:02:19.7]}', '11... d4 {[%clk 0:03:37.4]}',\n",
       "       '12. Bb2 {[%clk 0:02:20.5]}', '12... Ng6 {[%clk 0:03:36]}',\n",
       "       '13. a3 {[%clk 0:01:54.7]}', '13... a5 {[%clk 0:03:13.4]}',\n",
       "       '14. O-O {[%clk 0:01:31.2]}', '14... Nge5 {[%clk 0:02:57.3]}',\n",
       "       '15. b4 {[%clk 0:01:28.5]}', '15... g6 {[%clk 0:01:50.2]}',\n",
       "       '16. Bd1 {[%clk 0:01:24.3]}', '16... axb4 {[%clk 0:01:08.4]}',\n",
       "       '17. axb4 {[%clk 0:01:26.2]}', '17... Nxb4 {[%clk 0:01:10]}',\n",
       "       '18. Bxd4 {[%clk 0:01:26.2]}', '18... Be7 {[%clk 0:00:37]}',\n",
       "       '19. Bxe5 {[%clk 0:01:10]}', '19... fxe5 {[%clk 0:00:38.9]}',\n",
       "       '20. Qxe5 {[%clk 0:00:26.9]}', '20... Nc6 {[%clk 0:00:35.1]}',\n",
       "       '21. Rxf8+ {[%clk 0:00:25.9]}', '21... Bxf8 {[%clk 0:00:37]}',\n",
       "       '22. Rxf8+ {[%clk 0:00:26.4]}'], dtype=object)"
      ]
     },
     "execution_count": 432,
     "metadata": {},
     "output_type": "execute_result"
    }
   ],
   "source": [
    "test['moves_extract'][0]"
   ]
  },
  {
   "cell_type": "code",
   "execution_count": 438,
   "metadata": {},
   "outputs": [
    {
     "data": {
      "text/plain": [
       "['1. e4 0:05:01.2',\n",
       " '1... e5 0:04:48',\n",
       " '2. b3 0:04:49',\n",
       " '2... Nc6 0:04:44.3',\n",
       " '3. d3 0:04:38.1',\n",
       " '3... N8e7 0:04:25.9',\n",
       " '4. f4 0:04:22.3',\n",
       " '4... exf4 0:04:16.5',\n",
       " '5. Bc3 0:04:21.1',\n",
       " '5... f6 0:04:13.5',\n",
       " '6. Ne2 0:04:03.6',\n",
       " '6... d5 0:03:58.2',\n",
       " '7. Nxf4 0:03:59.2',\n",
       " '7... Bf7 0:03:59.2',\n",
       " '8. Nd2 0:03:47.4',\n",
       " '8... Qc8 0:03:55.5',\n",
       " '9. Nh5 0:02:40.9',\n",
       " '9... Bxh5 0:03:36.6',\n",
       " '10. Bxh5 0:02:41.5',\n",
       " '10... Qd7 0:03:38.5',\n",
       " '11. Rf2 0:02:19.7',\n",
       " '11... d4 0:03:37.4',\n",
       " '12. Bb2 0:02:20.5',\n",
       " '12... Ng6 0:03:36',\n",
       " '13. a3 0:01:54.7',\n",
       " '13... a5 0:03:13.4',\n",
       " '14. O-O 0:01:31.2',\n",
       " '14... Nge5 0:02:57.3',\n",
       " '15. b4 0:01:28.5',\n",
       " '15... g6 0:01:50.2',\n",
       " '16. Bd1 0:01:24.3',\n",
       " '16... axb4 0:01:08.4',\n",
       " '17. axb4 0:01:26.2',\n",
       " '17... Nxb4 0:01:10',\n",
       " '18. Bxd4 0:01:26.2',\n",
       " '18... Be7 0:00:37',\n",
       " '19. Bxe5 0:01:10',\n",
       " '19... fxe5 0:00:38.9',\n",
       " '20. Qxe5 0:00:26.9',\n",
       " '20... Nc6 0:00:35.1',\n",
       " '21. Rxf8+ 0:00:25.9',\n",
       " '21... Bxf8 0:00:37',\n",
       " '22. Rxf8+ 0:00:26.4']"
      ]
     },
     "execution_count": 438,
     "metadata": {},
     "output_type": "execute_result"
    }
   ],
   "source": [
    "[move.replace('{[%clk ', '').replace(']}', '') for move in test['moves_extract'][0]]"
   ]
  },
  {
   "cell_type": "code",
   "execution_count": 355,
   "metadata": {},
   "outputs": [],
   "source": [
    "import re"
   ]
  },
  {
   "cell_type": "code",
   "execution_count": 389,
   "metadata": {},
   "outputs": [],
   "source": [
    "def parse_pgn_moves(pgn_moves):\n",
    "    pgn_moves = [move.replace('{[%clk ', '').replace(']}', '') for move in test['moves_extract'][0]]\n",
    "    \n",
    "    white_moves = len(pgn_moves[0::2])\n",
    "    black_moves = len(pgn_moves[1::2])\n",
    "    return white_moves, black_moves"
   ]
  },
  {
   "cell_type": "code",
   "execution_count": 391,
   "metadata": {},
   "outputs": [],
   "source": [
    "test['white_black_moves'] = test['moves_extract'].apply(lambda x: parse_pgn_moves(x))"
   ]
  },
  {
   "cell_type": "code",
   "execution_count": 429,
   "metadata": {},
   "outputs": [
    {
     "data": {
      "text/html": [
       "<div>\n",
       "<style scoped>\n",
       "    .dataframe tbody tr th:only-of-type {\n",
       "        vertical-align: middle;\n",
       "    }\n",
       "\n",
       "    .dataframe tbody tr th {\n",
       "        vertical-align: top;\n",
       "    }\n",
       "\n",
       "    .dataframe thead th {\n",
       "        text-align: right;\n",
       "    }\n",
       "</style>\n",
       "<table border=\"1\" class=\"dataframe\">\n",
       "  <thead>\n",
       "    <tr style=\"text-align: right;\">\n",
       "      <th></th>\n",
       "      <th>player_color</th>\n",
       "      <th>player_wdl</th>\n",
       "      <th>pgn_moves</th>\n",
       "      <th>test</th>\n",
       "      <th>moves_extract</th>\n",
       "    </tr>\n",
       "  </thead>\n",
       "  <tbody>\n",
       "    <tr>\n",
       "      <th>0</th>\n",
       "      <td>Black</td>\n",
       "      <td>lose</td>\n",
       "      <td>1. e4 {[%clk 0:05:01.2]} 1... e5 {[%clk 0:04:4...</td>\n",
       "      <td>1. e4 | 1... e5 {[%clk 0:04:48]} 2. b3 {[%clk ...</td>\n",
       "      <td>[1. e4 {[%clk 0:05:01.2]}, 1... e5 {[%clk 0:04...</td>\n",
       "    </tr>\n",
       "    <tr>\n",
       "      <th>1</th>\n",
       "      <td>White</td>\n",
       "      <td>lose</td>\n",
       "      <td>1. b3 {[%clk 0:05:01.9]} 1... d5 {[%clk 0:04:5...</td>\n",
       "      <td>1. b3 | 1... d5 {[%clk 0:04:59.7]} 2. Bb2 {[%c...</td>\n",
       "      <td>[1. b3 {[%clk 0:05:01.9]}, 1... d5 {[%clk 0:04...</td>\n",
       "    </tr>\n",
       "    <tr>\n",
       "      <th>2</th>\n",
       "      <td>Black</td>\n",
       "      <td>win</td>\n",
       "      <td>1. d4 {[%clk 0:05:02]} 1... Nf6 {[%clk 0:04:58...</td>\n",
       "      <td>1. d4 | 1... Nf6 {[%clk 0:04:58.9]} 2. c4 {[%c...</td>\n",
       "      <td>[1. d4 {[%clk 0:05:02]}, 1... Nf6 {[%clk 0:04:...</td>\n",
       "    </tr>\n",
       "    <tr>\n",
       "      <th>3</th>\n",
       "      <td>White</td>\n",
       "      <td>win</td>\n",
       "      <td>1. e4 {[%clk 0:05:02]} 1... c6 {[%clk 0:05:00....</td>\n",
       "      <td>1. e4 | 1... c6 {[%clk 0:05:00.6]} 2. d4 {[%cl...</td>\n",
       "      <td>[1. e4 {[%clk 0:05:02]}, 1... c6 {[%clk 0:05:0...</td>\n",
       "    </tr>\n",
       "    <tr>\n",
       "      <th>4</th>\n",
       "      <td>Black</td>\n",
       "      <td>win</td>\n",
       "      <td>1. d4 {[%clk 0:05:02]} 1... Nf6 {[%clk 0:05:01...</td>\n",
       "      <td>1. d4 | 1... Nf6 {[%clk 0:05:01.6]} 2. c4 {[%c...</td>\n",
       "      <td>[1. d4 {[%clk 0:05:02]}, 1... Nf6 {[%clk 0:05:...</td>\n",
       "    </tr>\n",
       "    <tr>\n",
       "      <th>5</th>\n",
       "      <td>White</td>\n",
       "      <td>draw</td>\n",
       "      <td>1. e4 {[%clk 0:04:58.7]} 1... c5 {[%clk 0:05:0...</td>\n",
       "      <td>1. e4 | 1... c5 {[%clk 0:05:01]} 2. Nf3 {[%clk...</td>\n",
       "      <td>[1. e4 {[%clk 0:04:58.7]}, 1... c5 {[%clk 0:05...</td>\n",
       "    </tr>\n",
       "    <tr>\n",
       "      <th>6</th>\n",
       "      <td>Black</td>\n",
       "      <td>win</td>\n",
       "      <td>1. d4 {[%clk 0:05:02]} 1... Nf6 {[%clk 0:05:01...</td>\n",
       "      <td>1. d4 | 1... Nf6 {[%clk 0:05:01.9]} 2. c4 {[%c...</td>\n",
       "      <td>[1. d4 {[%clk 0:05:02]}, 1... Nf6 {[%clk 0:05:...</td>\n",
       "    </tr>\n",
       "    <tr>\n",
       "      <th>7</th>\n",
       "      <td>White</td>\n",
       "      <td>lose</td>\n",
       "      <td>1. d4 {[%clk 0:05:01.2]} 1... Nf6 {[%clk 0:05:...</td>\n",
       "      <td>1. d4 | 1... Nf6 {[%clk 0:05:00.4]} 2. Nf3 {[%...</td>\n",
       "      <td>[1. d4 {[%clk 0:05:01.2]}, 1... Nf6 {[%clk 0:0...</td>\n",
       "    </tr>\n",
       "    <tr>\n",
       "      <th>8</th>\n",
       "      <td>Black</td>\n",
       "      <td>win</td>\n",
       "      <td>1. g3 {[%clk 0:02:06.7]} 1... Nc6 {[%clk 0:02:...</td>\n",
       "      <td>1. g3 | 1... Nc6 {[%clk 0:02:53.5]} 2. Nc3 {[%...</td>\n",
       "      <td>[1. g3 {[%clk 0:02:06.7]}, 1... Nc6 {[%clk 0:0...</td>\n",
       "    </tr>\n",
       "    <tr>\n",
       "      <th>9</th>\n",
       "      <td>White</td>\n",
       "      <td>lose</td>\n",
       "      <td>1. c4 {[%clk 0:03:00.4]} 1... c5 {[%clk 0:02:5...</td>\n",
       "      <td>1. c4 | 1... c5 {[%clk 0:02:59.2]} 2. Nf3 {[%c...</td>\n",
       "      <td>[1. c4 {[%clk 0:03:00.4]}, 1... c5 {[%clk 0:02...</td>\n",
       "    </tr>\n",
       "    <tr>\n",
       "      <th>10</th>\n",
       "      <td>Black</td>\n",
       "      <td>draw</td>\n",
       "      <td>1. d4 {[%clk 0:03:02]} 1... Nf6 {[%clk 0:03:00...</td>\n",
       "      <td>1. d4 | 1... Nf6 {[%clk 0:03:00.7]} 2. c4 {[%c...</td>\n",
       "      <td>[1. d4 {[%clk 0:03:02]}, 1... Nf6 {[%clk 0:03:...</td>\n",
       "    </tr>\n",
       "    <tr>\n",
       "      <th>11</th>\n",
       "      <td>White</td>\n",
       "      <td>draw</td>\n",
       "      <td>1. Nf3 {[%clk 0:03:02]} 1... c5 {[%clk 0:02:58...</td>\n",
       "      <td>1. Nf3 | 1... c5 {[%clk 0:02:58.6]} 2. b3 {[%c...</td>\n",
       "      <td>[1. Nf3 {[%clk 0:03:02]}, 1... c5 {[%clk 0:02:...</td>\n",
       "    </tr>\n",
       "    <tr>\n",
       "      <th>12</th>\n",
       "      <td>Black</td>\n",
       "      <td>lose</td>\n",
       "      <td>1. d4 {[%clk 0:03:02]} 1... Nf6 {[%clk 0:03:01...</td>\n",
       "      <td>1. d4 | 1... Nf6 {[%clk 0:03:01.6]} 2. c4 {[%c...</td>\n",
       "      <td>[1. d4 {[%clk 0:03:02]}, 1... Nf6 {[%clk 0:03:...</td>\n",
       "    </tr>\n",
       "    <tr>\n",
       "      <th>13</th>\n",
       "      <td>White</td>\n",
       "      <td>win</td>\n",
       "      <td>1. e4 {[%clk 0:03:02]} 1... c5 {[%clk 0:03:01....</td>\n",
       "      <td>1. e4 | 1... c5 {[%clk 0:03:01.5]} 2. Nf3 {[%c...</td>\n",
       "      <td>[1. e4 {[%clk 0:03:02]}, 1... c5 {[%clk 0:03:0...</td>\n",
       "    </tr>\n",
       "    <tr>\n",
       "      <th>14</th>\n",
       "      <td>Black</td>\n",
       "      <td>draw</td>\n",
       "      <td>1. c4 {[%clk 0:03:02]} 1... e6 {[%clk 0:03:00....</td>\n",
       "      <td>1. c4 | 1... e6 {[%clk 0:03:00.6]} 2. Nc3 {[%c...</td>\n",
       "      <td>[1. c4 {[%clk 0:03:02]}, 1... e6 {[%clk 0:03:0...</td>\n",
       "    </tr>\n",
       "  </tbody>\n",
       "</table>\n",
       "</div>"
      ],
      "text/plain": [
       "   player_color player_wdl                                          pgn_moves  \\\n",
       "0         Black       lose  1. e4 {[%clk 0:05:01.2]} 1... e5 {[%clk 0:04:4...   \n",
       "1         White       lose  1. b3 {[%clk 0:05:01.9]} 1... d5 {[%clk 0:04:5...   \n",
       "2         Black        win  1. d4 {[%clk 0:05:02]} 1... Nf6 {[%clk 0:04:58...   \n",
       "3         White        win  1. e4 {[%clk 0:05:02]} 1... c6 {[%clk 0:05:00....   \n",
       "4         Black        win  1. d4 {[%clk 0:05:02]} 1... Nf6 {[%clk 0:05:01...   \n",
       "5         White       draw  1. e4 {[%clk 0:04:58.7]} 1... c5 {[%clk 0:05:0...   \n",
       "6         Black        win  1. d4 {[%clk 0:05:02]} 1... Nf6 {[%clk 0:05:01...   \n",
       "7         White       lose  1. d4 {[%clk 0:05:01.2]} 1... Nf6 {[%clk 0:05:...   \n",
       "8         Black        win  1. g3 {[%clk 0:02:06.7]} 1... Nc6 {[%clk 0:02:...   \n",
       "9         White       lose  1. c4 {[%clk 0:03:00.4]} 1... c5 {[%clk 0:02:5...   \n",
       "10        Black       draw  1. d4 {[%clk 0:03:02]} 1... Nf6 {[%clk 0:03:00...   \n",
       "11        White       draw  1. Nf3 {[%clk 0:03:02]} 1... c5 {[%clk 0:02:58...   \n",
       "12        Black       lose  1. d4 {[%clk 0:03:02]} 1... Nf6 {[%clk 0:03:01...   \n",
       "13        White        win  1. e4 {[%clk 0:03:02]} 1... c5 {[%clk 0:03:01....   \n",
       "14        Black       draw  1. c4 {[%clk 0:03:02]} 1... e6 {[%clk 0:03:00....   \n",
       "\n",
       "                                                 test  \\\n",
       "0   1. e4 | 1... e5 {[%clk 0:04:48]} 2. b3 {[%clk ...   \n",
       "1   1. b3 | 1... d5 {[%clk 0:04:59.7]} 2. Bb2 {[%c...   \n",
       "2   1. d4 | 1... Nf6 {[%clk 0:04:58.9]} 2. c4 {[%c...   \n",
       "3   1. e4 | 1... c6 {[%clk 0:05:00.6]} 2. d4 {[%cl...   \n",
       "4   1. d4 | 1... Nf6 {[%clk 0:05:01.6]} 2. c4 {[%c...   \n",
       "5   1. e4 | 1... c5 {[%clk 0:05:01]} 2. Nf3 {[%clk...   \n",
       "6   1. d4 | 1... Nf6 {[%clk 0:05:01.9]} 2. c4 {[%c...   \n",
       "7   1. d4 | 1... Nf6 {[%clk 0:05:00.4]} 2. Nf3 {[%...   \n",
       "8   1. g3 | 1... Nc6 {[%clk 0:02:53.5]} 2. Nc3 {[%...   \n",
       "9   1. c4 | 1... c5 {[%clk 0:02:59.2]} 2. Nf3 {[%c...   \n",
       "10  1. d4 | 1... Nf6 {[%clk 0:03:00.7]} 2. c4 {[%c...   \n",
       "11  1. Nf3 | 1... c5 {[%clk 0:02:58.6]} 2. b3 {[%c...   \n",
       "12  1. d4 | 1... Nf6 {[%clk 0:03:01.6]} 2. c4 {[%c...   \n",
       "13  1. e4 | 1... c5 {[%clk 0:03:01.5]} 2. Nf3 {[%c...   \n",
       "14  1. c4 | 1... e6 {[%clk 0:03:00.6]} 2. Nc3 {[%c...   \n",
       "\n",
       "                                        moves_extract  \n",
       "0   [1. e4 {[%clk 0:05:01.2]}, 1... e5 {[%clk 0:04...  \n",
       "1   [1. b3 {[%clk 0:05:01.9]}, 1... d5 {[%clk 0:04...  \n",
       "2   [1. d4 {[%clk 0:05:02]}, 1... Nf6 {[%clk 0:04:...  \n",
       "3   [1. e4 {[%clk 0:05:02]}, 1... c6 {[%clk 0:05:0...  \n",
       "4   [1. d4 {[%clk 0:05:02]}, 1... Nf6 {[%clk 0:05:...  \n",
       "5   [1. e4 {[%clk 0:04:58.7]}, 1... c5 {[%clk 0:05...  \n",
       "6   [1. d4 {[%clk 0:05:02]}, 1... Nf6 {[%clk 0:05:...  \n",
       "7   [1. d4 {[%clk 0:05:01.2]}, 1... Nf6 {[%clk 0:0...  \n",
       "8   [1. g3 {[%clk 0:02:06.7]}, 1... Nc6 {[%clk 0:0...  \n",
       "9   [1. c4 {[%clk 0:03:00.4]}, 1... c5 {[%clk 0:02...  \n",
       "10  [1. d4 {[%clk 0:03:02]}, 1... Nf6 {[%clk 0:03:...  \n",
       "11  [1. Nf3 {[%clk 0:03:02]}, 1... c5 {[%clk 0:02:...  \n",
       "12  [1. d4 {[%clk 0:03:02]}, 1... Nf6 {[%clk 0:03:...  \n",
       "13  [1. e4 {[%clk 0:03:02]}, 1... c5 {[%clk 0:03:0...  \n",
       "14  [1. c4 {[%clk 0:03:02]}, 1... e6 {[%clk 0:03:0...  "
      ]
     },
     "execution_count": 429,
     "metadata": {},
     "output_type": "execute_result"
    }
   ],
   "source": [
    "test"
   ]
  },
  {
   "cell_type": "code",
   "execution_count": 430,
   "metadata": {},
   "outputs": [
    {
     "name": "stdout",
     "output_type": "stream",
     "text": [
      "[Event \"Live Chess - Chess960\"]\n",
      "[Site \"Chess.com\"]\n",
      "[Date \"2016.08.23\"]\n",
      "[Round \"-\"]\n",
      "[White \"Grischuk\"]\n",
      "[Black \"MagnusCarlsen\"]\n",
      "[Result \"1-0\"]\n",
      "[Variant \"Chess960\"]\n",
      "[SetUp \"1\"]\n",
      "[FEN \"qnnbbrkr/pppppppp/8/8/8/8/PPPPPPPP/QNNBBRKR w HFhf - 0 1\"]\n",
      "[CurrentPosition \"5Rkr/1ppq3p/2n3p1/4Q3/4P3/3P4/2PN2PP/3B2K1 b kq -\"]\n",
      "[Timezone \"UTC\"]\n",
      "[ECO \"C20\"]\n",
      "[ECOUrl \"https://www.chess.com/openings/Kings-Pawn-Opening-1...e5-2.b3\"]\n",
      "[UTCDate \"2016.08.23\"]\n",
      "[UTCTime \"17:01:02\"]\n",
      "[WhiteElo \"2773\"]\n",
      "[BlackElo \"2880\"]\n",
      "[TimeControl \"300+2\"]\n",
      "[Termination \"Grischuk won by resignation\"]\n",
      "[StartTime \"17:01:02\"]\n",
      "[EndDate \"2016.08.23\"]\n",
      "[EndTime \"17:11:38\"]\n",
      "[Link \"https://www.chess.com/game/live/1701334335\"]\n",
      "\n",
      "1. e4 {[%clk 0:05:01.2]} 1... e5 {[%clk 0:04:48]} 2. b3 {[%clk 0:04:49]} 2... Nc6 {[%clk 0:04:44.3]} 3. d3 {[%clk 0:04:38.1]} 3... N8e7 {[%clk 0:04:25.9]} 4. f4 {[%clk 0:04:22.3]} 4... exf4 {[%clk 0:04:16.5]} 5. Bc3 {[%clk 0:04:21.1]} 5... f6 {[%clk 0:04:13.5]} 6. Ne2 {[%clk 0:04:03.6]} 6... d5 {[%clk 0:03:58.2]} 7. Nxf4 {[%clk 0:03:59.2]} 7... Bf7 {[%clk 0:03:59.2]} 8. Nd2 {[%clk 0:03:47.4]} 8... Qc8 {[%clk 0:03:55.5]} 9. Nh5 {[%clk 0:02:40.9]} 9... Bxh5 {[%clk 0:03:36.6]} 10. Bxh5 {[%clk 0:02:41.5]} 10... Qd7 {[%clk 0:03:38.5]} 11. Rf2 {[%clk 0:02:19.7]} 11... d4 {[%clk 0:03:37.4]} 12. Bb2 {[%clk 0:02:20.5]} 12... Ng6 {[%clk 0:03:36]} 13. a3 {[%clk 0:01:54.7]} 13... a5 {[%clk 0:03:13.4]} 14. O-O {[%clk 0:01:31.2]} 14... Nge5 {[%clk 0:02:57.3]} 15. b4 {[%clk 0:01:28.5]} 15... g6 {[%clk 0:01:50.2]} 16. Bd1 {[%clk 0:01:24.3]} 16... axb4 {[%clk 0:01:08.4]} 17. axb4 {[%clk 0:01:26.2]} 17... Nxb4 {[%clk 0:01:10]} 18. Bxd4 {[%clk 0:01:26.2]} 18... Be7 {[%clk 0:00:37]} 19. Bxe5 {[%clk 0:01:10]} 19... fxe5 {[%clk 0:00:38.9]} 20. Qxe5 {[%clk 0:00:26.9]} 20... Nc6 {[%clk 0:00:35.1]} 21. Rxf8+ {[%clk 0:00:25.9]} 21... Bxf8 {[%clk 0:00:37]} 22. Rxf8+ {[%clk 0:00:26.4]} 1-0\n",
      "\n"
     ]
    }
   ],
   "source": [
    "print(df_prep['pgn'][0])"
   ]
  },
  {
   "cell_type": "code",
   "execution_count": 342,
   "metadata": {},
   "outputs": [
    {
     "name": "stdout",
     "output_type": "stream",
     "text": [
      "1. e4 {[%clk 0:24:57.6]} 1... e5 {[%clk 0:24:55.4]} 2. Nf3 {[%clk 0:24:58.6]} 2... Nc6 {[%clk 0:25:13.7]} 3. Bb5 {[%clk 0:24:59.8]} 3... Nf6 {[%clk 0:25:33.6]} 4. O-O {[%clk 0:25:06.3]} 4... Nxe4 {[%clk 0:25:54.7]} 5. d4 {[%clk 0:25:14]} 5... Nd6 {[%clk 0:25:45.4]} 6. Bg5 {[%clk 0:24:40.4]} 6... Be7 {[%clk 0:23:35.6]} 7. Bxe7 {[%clk 0:24:50]} 7... Nxe7 {[%clk 0:23:08]} 8. dxe5 {[%clk 0:25:03.6]} 8... Nxb5 {[%clk 0:22:06.5]} 9. a4 {[%clk 0:25:21.9]} 9... O-O {[%clk 0:21:46]} 10. axb5 {[%clk 0:25:43.4]} 10... Ng6 {[%clk 0:21:39.8]} 11. Nc3 {[%clk 0:25:56.2]} 11... b6 {[%clk 0:19:10.8]} 12. Qd5 {[%clk 0:26:12.6]} 12... c6 {[%clk 0:18:18.3]} 13. bxc6 {[%clk 0:26:08]} 13... dxc6 {[%clk 0:18:36]} 14. Qxc6 {[%clk 0:26:10.4]} 14... Be6 {[%clk 0:17:40.7]} 15. Rad1 {[%clk 0:26:22.1]} 15... Qc8 {[%clk 0:16:44]} 16. Qe4 {[%clk 0:26:35.1]} 16... Bf5 {[%clk 0:15:32.7]} 17. Qe3 {[%clk 0:26:52.2]} 17... Qb7 {[%clk 0:11:11.8]} 18. Nd4 {[%clk 0:26:53.5]} 18... Be6 {[%clk 0:09:35.8]} 19. f4 {[%clk 0:27:10.7]} 19... Bc4 {[%clk 0:08:15.1]} 20. Rfe1 {[%clk 0:25:16.2]} 20... Ne7 {[%clk 0:05:01.4]} 21. f5 {[%clk 0:25:35.3]} 21... Nd5 {[%clk 0:03:37.2]} 22. Nxd5 {[%clk 0:25:31.7]} 22... Bxd5 {[%clk 0:03:41.7]} 23. f6 {[%clk 0:25:32.9]} 23... gxf6 {[%clk 0:03:24.5]} 24. Nf5 {[%clk 0:25:43.5]} 24... Kh8 {[%clk 0:03:18.8]} 25. Qh6 {[%clk 0:25:57]} 25... Rg8 {[%clk 0:03:29.8]} 26. Qxf6+ {[%clk 0:25:20.2]} 26... Rg7 {[%clk 0:03:30.3]} 27. Qxg7# {[%clk 0:25:43.5]} 1-0\n"
     ]
    }
   ],
   "source": [
    "print(df_prep['pgn'][2].split('\\n')[-2])"
   ]
  },
  {
   "cell_type": "code",
   "execution_count": 340,
   "metadata": {},
   "outputs": [
    {
     "name": "stdout",
     "output_type": "stream",
     "text": [
      "mC2UgvZRlB92fA6EA181vM18dE!VEx5ZMS76S2872S78cVZTbs81BJYQegQJCJ6ASM18xSAES18Zae48eSEBfeTES080e0Z608?8186YMSYP8H\n"
     ]
    }
   ],
   "source": [
    "print(df_prep['tcn'][0])"
   ]
  },
  {
   "cell_type": "code",
   "execution_count": null,
   "metadata": {},
   "outputs": [],
   "source": []
  }
 ],
 "metadata": {
  "kernelspec": {
   "display_name": "Python 3 (ipykernel)",
   "language": "python",
   "name": "python3"
  },
  "language_info": {
   "codemirror_mode": {
    "name": "ipython",
    "version": 3
   },
   "file_extension": ".py",
   "mimetype": "text/x-python",
   "name": "python",
   "nbconvert_exporter": "python",
   "pygments_lexer": "ipython3",
   "version": "3.11.9"
  }
 },
 "nbformat": 4,
 "nbformat_minor": 4
}
