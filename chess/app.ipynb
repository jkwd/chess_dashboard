{
 "cells": [
  {
   "cell_type": "code",
   "execution_count": 78,
   "metadata": {},
   "outputs": [],
   "source": [
    "import pandas as pd\n",
    "import duckdb\n",
    "from chess_pipeline import run_pipeline"
   ]
  },
  {
   "cell_type": "code",
   "execution_count": 244,
   "metadata": {},
   "outputs": [],
   "source": [
    "db = duckdb.connect(\":memory:\")\n",
    "db.sql(\"SET TimeZone='UTC'\")"
   ]
  },
  {
   "cell_type": "code",
   "execution_count": 245,
   "metadata": {},
   "outputs": [
    {
     "name": "stdout",
     "output_type": "stream",
     "text": [
      "Getting archive from https://api.chess.com/pub/player/johnnywhoopp/games/2024/04Getting archive from https://api.chess.com/pub/player/johnnywhoopp/games/2024/05\n",
      "\n",
      "Getting archive from https://api.chess.com/pub/player/johnnywhoopp/games/2024/06\n",
      "Getting archive from https://api.chess.com/pub/player/johnnywhoopp/games/2024/07\n",
      "Getting archive from https://api.chess.com/pub/player/johnnywhoopp/games/2024/08\n",
      "Pipeline chess_pipeline load step completed in 0.23 seconds\n",
      "1 load package(s) were loaded to destination duckdb and into dataset chess_data\n",
      "The duckdb destination used duckdb:///:external: location to store data\n",
      "Load package 1722938796.2975738 is LOADED and contains no failed jobs\n"
     ]
    }
   ],
   "source": [
    "username = 'johnnywhoopp'\n",
    "# username = 'magnuscarlsen'\n",
    "run_pipeline(db, username=username)"
   ]
  },
  {
   "cell_type": "code",
   "execution_count": 246,
   "metadata": {},
   "outputs": [
    {
     "data": {
      "text/plain": [
       "┌──────────┬────────────┬─────────────────────┬──────────────────────┬─────────────────────────────────────┬───────────┐\n",
       "│ database │   schema   │        name         │     column_names     │            column_types             │ temporary │\n",
       "│ varchar  │  varchar   │       varchar       │      varchar[]       │              varchar[]              │  boolean  │\n",
       "├──────────┼────────────┼─────────────────────┼──────────────────────┼─────────────────────────────────────┼───────────┤\n",
       "│ memory   │ chess_data │ _dlt_loads          │ [load_id, schema_n…  │ [VARCHAR, VARCHAR, BIGINT, TIMEST…  │ false     │\n",
       "│ memory   │ chess_data │ _dlt_pipeline_state │ [version, engine_v…  │ [BIGINT, BIGINT, VARCHAR, VARCHAR…  │ false     │\n",
       "│ memory   │ chess_data │ _dlt_version        │ [version, engine_v…  │ [BIGINT, BIGINT, TIMESTAMP WITH T…  │ false     │\n",
       "│ memory   │ chess_data │ player_games        │ [end_time, url, pg…  │ [TIMESTAMP WITH TIME ZONE, VARCHA…  │ false     │\n",
       "│ memory   │ chess_data │ player_profile      │ [last_online, join…  │ [TIMESTAMP WITH TIME ZONE, TIMEST…  │ false     │\n",
       "└──────────┴────────────┴─────────────────────┴──────────────────────┴─────────────────────────────────────┴───────────┘"
      ]
     },
     "execution_count": 246,
     "metadata": {},
     "output_type": "execute_result"
    }
   ],
   "source": [
    "db.sql(\"DESCRIBE;\")"
   ]
  },
  {
   "cell_type": "code",
   "execution_count": 247,
   "metadata": {},
   "outputs": [],
   "source": [
    "df_player = db.sql(\"select * from chess_data.player_profile;\").to_df()"
   ]
  },
  {
   "cell_type": "code",
   "execution_count": 248,
   "metadata": {},
   "outputs": [
    {
     "data": {
      "text/html": [
       "<div>\n",
       "<style scoped>\n",
       "    .dataframe tbody tr th:only-of-type {\n",
       "        vertical-align: middle;\n",
       "    }\n",
       "\n",
       "    .dataframe tbody tr th {\n",
       "        vertical-align: top;\n",
       "    }\n",
       "\n",
       "    .dataframe thead th {\n",
       "        text-align: right;\n",
       "    }\n",
       "</style>\n",
       "<table border=\"1\" class=\"dataframe\">\n",
       "  <thead>\n",
       "    <tr style=\"text-align: right;\">\n",
       "      <th></th>\n",
       "      <th>last_online</th>\n",
       "      <th>joined</th>\n",
       "      <th>player_id</th>\n",
       "      <th>aid</th>\n",
       "      <th>url</th>\n",
       "      <th>username</th>\n",
       "      <th>followers</th>\n",
       "      <th>country</th>\n",
       "      <th>status</th>\n",
       "      <th>is_streamer</th>\n",
       "      <th>verified</th>\n",
       "      <th>_dlt_load_id</th>\n",
       "      <th>_dlt_id</th>\n",
       "    </tr>\n",
       "  </thead>\n",
       "  <tbody>\n",
       "    <tr>\n",
       "      <th>0</th>\n",
       "      <td>2024-07-25 14:16:13+00:00</td>\n",
       "      <td>2024-04-03 07:27:43+00:00</td>\n",
       "      <td>354759323</td>\n",
       "      <td>https://api.chess.com/pub/player/johnnywhoopp</td>\n",
       "      <td>https://www.chess.com/member/johnnywhoopp</td>\n",
       "      <td>johnnywhoopp</td>\n",
       "      <td>0</td>\n",
       "      <td>https://api.chess.com/pub/country/JP</td>\n",
       "      <td>basic</td>\n",
       "      <td>False</td>\n",
       "      <td>False</td>\n",
       "      <td>1722938796.2975738</td>\n",
       "      <td>/V90qb9oxRJHpw</td>\n",
       "    </tr>\n",
       "  </tbody>\n",
       "</table>\n",
       "</div>"
      ],
      "text/plain": [
       "                last_online                    joined  player_id  \\\n",
       "0 2024-07-25 14:16:13+00:00 2024-04-03 07:27:43+00:00  354759323   \n",
       "\n",
       "                                             aid  \\\n",
       "0  https://api.chess.com/pub/player/johnnywhoopp   \n",
       "\n",
       "                                         url      username  followers  \\\n",
       "0  https://www.chess.com/member/johnnywhoopp  johnnywhoopp          0   \n",
       "\n",
       "                                country status  is_streamer  verified  \\\n",
       "0  https://api.chess.com/pub/country/JP  basic        False     False   \n",
       "\n",
       "         _dlt_load_id         _dlt_id  \n",
       "0  1722938796.2975738  /V90qb9oxRJHpw  "
      ]
     },
     "execution_count": 248,
     "metadata": {},
     "output_type": "execute_result"
    }
   ],
   "source": [
    "df_player"
   ]
  },
  {
   "cell_type": "code",
   "execution_count": 249,
   "metadata": {},
   "outputs": [],
   "source": [
    "df_games = db.sql(\"select * from chess_data.player_games;\").to_df()"
   ]
  },
  {
   "cell_type": "code",
   "execution_count": 250,
   "metadata": {},
   "outputs": [
    {
     "data": {
      "text/plain": [
       "Index(['end_time', 'url', 'pgn', 'time_control', 'rated', 'accuracies__white',\n",
       "       'accuracies__black', 'tcn', 'uuid', 'initial_setup', 'fen',\n",
       "       'time_class', 'rules', 'white__rating', 'white__result', 'white__aid',\n",
       "       'white__username', 'white__uuid', 'black__rating', 'black__result',\n",
       "       'black__aid', 'black__username', 'black__uuid', '_dlt_load_id',\n",
       "       '_dlt_id'],\n",
       "      dtype='object')"
      ]
     },
     "execution_count": 250,
     "metadata": {},
     "output_type": "execute_result"
    }
   ],
   "source": [
    "df_games.columns"
   ]
  },
  {
   "cell_type": "code",
   "execution_count": 251,
   "metadata": {},
   "outputs": [
    {
     "name": "stdout",
     "output_type": "stream",
     "text": [
      "<class 'pandas.core.frame.DataFrame'>\n",
      "RangeIndex: 402 entries, 0 to 401\n",
      "Data columns (total 25 columns):\n",
      " #   Column             Non-Null Count  Dtype              \n",
      "---  ------             --------------  -----              \n",
      " 0   end_time           402 non-null    datetime64[us, UTC]\n",
      " 1   url                402 non-null    object             \n",
      " 2   pgn                402 non-null    object             \n",
      " 3   time_control       402 non-null    object             \n",
      " 4   rated              402 non-null    bool               \n",
      " 5   accuracies__white  29 non-null     float64            \n",
      " 6   accuracies__black  29 non-null     float64            \n",
      " 7   tcn                402 non-null    object             \n",
      " 8   uuid               402 non-null    object             \n",
      " 9   initial_setup      402 non-null    object             \n",
      " 10  fen                402 non-null    object             \n",
      " 11  time_class         402 non-null    object             \n",
      " 12  rules              402 non-null    object             \n",
      " 13  white__rating      402 non-null    int64              \n",
      " 14  white__result      402 non-null    object             \n",
      " 15  white__aid         402 non-null    object             \n",
      " 16  white__username    402 non-null    object             \n",
      " 17  white__uuid        402 non-null    object             \n",
      " 18  black__rating      402 non-null    int64              \n",
      " 19  black__result      402 non-null    object             \n",
      " 20  black__aid         402 non-null    object             \n",
      " 21  black__username    402 non-null    object             \n",
      " 22  black__uuid        402 non-null    object             \n",
      " 23  _dlt_load_id       402 non-null    object             \n",
      " 24  _dlt_id            402 non-null    object             \n",
      "dtypes: bool(1), datetime64[us, UTC](1), float64(2), int64(2), object(19)\n",
      "memory usage: 75.9+ KB\n"
     ]
    }
   ],
   "source": [
    "df_games.info()"
   ]
  },
  {
   "cell_type": "code",
   "execution_count": 255,
   "metadata": {},
   "outputs": [],
   "source": [
    "df_prep = db.sql(f\"\"\"\n",
    "    select\n",
    "        if(lower(white__username)='{username}', 'White', 'Black') as player_color\n",
    "        , if(player_color = 'White', white__result, black__result) as player_result\n",
    "        , if(player_color = 'White', black__result, white__result) as opponent_result\n",
    "        , case player_result\n",
    "            -- WIN\n",
    "            when 'win' then 'win'\n",
    "            \n",
    "            -- DRAW\n",
    "            when 'stalemate' then 'draw'\n",
    "            when 'agreed' then 'draw'\n",
    "            when 'repetition' then 'draw'\n",
    "            when '50move' then 'draw'\n",
    "            when 'insufficient' then 'draw'\n",
    "            when 'timevsinsufficient' then 'draw'\n",
    "            \n",
    "            -- LOSE\n",
    "            when 'checkmated' then 'lose'\n",
    "            when 'timeout' then 'lose'\n",
    "            when 'resigned' then 'lose'\n",
    "            when 'abandoned' then 'lose'\n",
    "            when 'threecheck' then 'lose'\n",
    "        end as win_draw_lose\n",
    "        , if(player_result='win', opponent_result, player_result) as reason\n",
    "        , regexp_extract(pgn, '(ECO )\"(.*)\"', 2) as eco\n",
    "        , replace(regexp_extract(pgn, '(UTCDate )\"(.*)\"', 2), '.', '-') as start_date\n",
    "        , regexp_extract(pgn, '(StartTime )\"(.*)\"', 2) as start_time\n",
    "        , cast(concat(start_date, ' ', start_time) as timestamp) as start_timestamp\n",
    "        , cast(end_time as timestamp) as end_timestamp\n",
    "        , age(end_timestamp, start_timestamp) as time_played\n",
    "        , *\n",
    "        from chess_data.player_games\n",
    "\"\"\").to_df()"
   ]
  },
  {
   "cell_type": "code",
   "execution_count": 257,
   "metadata": {},
   "outputs": [
    {
     "data": {
      "text/plain": [
       "'3 days 03:14:47'"
      ]
     },
     "execution_count": 257,
     "metadata": {},
     "output_type": "execute_result"
    }
   ],
   "source": [
    "str(df_prep['time_played'].sum())"
   ]
  },
  {
   "cell_type": "code",
   "execution_count": 243,
   "metadata": {},
   "outputs": [
    {
     "data": {
      "text/plain": [
       "402"
      ]
     },
     "execution_count": 243,
     "metadata": {},
     "output_type": "execute_result"
    }
   ],
   "source": [
    "len(df_prep)"
   ]
  },
  {
   "cell_type": "code",
   "execution_count": null,
   "metadata": {},
   "outputs": [],
   "source": []
  }
 ],
 "metadata": {
  "kernelspec": {
   "display_name": ".venv",
   "language": "python",
   "name": "python3"
  },
  "language_info": {
   "codemirror_mode": {
    "name": "ipython",
    "version": 3
   },
   "file_extension": ".py",
   "mimetype": "text/x-python",
   "name": "python",
   "nbconvert_exporter": "python",
   "pygments_lexer": "ipython3",
   "version": "3.12.4"
  }
 },
 "nbformat": 4,
 "nbformat_minor": 2
}
